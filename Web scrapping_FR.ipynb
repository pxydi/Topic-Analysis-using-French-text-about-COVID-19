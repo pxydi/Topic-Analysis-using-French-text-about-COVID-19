{
 "cells": [
  {
   "cell_type": "markdown",
   "metadata": {},
   "source": [
    "# Web scraping :: Communiqués du conseil fédéral\n",
    "\n",
    "Source: https://www.admin.ch/gov/fr/accueil/documentation/communiques/communiques-conseil-federal.html\n",
    "\n",
    "Dates: Feb 2020  - September 2020"
   ]
  },
  {
   "cell_type": "code",
   "execution_count": 1,
   "metadata": {},
   "outputs": [],
   "source": [
    "# Import necessary libraries\n",
    "\n",
    "import pandas as pd\n",
    "import numpy as np\n",
    "import matplotlib.pyplot as plt\n",
    "import seaborn as sns\n",
    "import requests\n",
    "import re\n",
    "from bs4 import BeautifulSoup"
   ]
  },
  {
   "cell_type": "code",
   "execution_count": 5,
   "metadata": {},
   "outputs": [],
   "source": [
    "# Flux RSS\n",
    "\n",
    "url_1 = 'https://www.newsd.admin.ch/newsd/feeds/rss?lang=fr&org-nr=1070&topic=0&keyword=&offer-nr=&catalogueElement=&kind=&start_date=2019-11-01&end_date=2020-09-16&end_index=199'\n",
    "url_2 = 'https://www.newsd.admin.ch/newsd/feeds/rss?lang=fr&org-nr=1070&topic=0&keyword=&offer-nr=&catalogueElement=&kind=&start_date=2015-01-01&end_date=2020-05-15&end_index=199'\n",
    "url_3 = 'https://www.newsd.admin.ch/newsd/feeds/rss?lang=fr&org-nr=1070&topic=0&keyword=&offer-nr=&catalogueElement=&kind=&start_date=2015-01-01&end_date=2020-01-21&end_index=199'\n",
    "url_4 = 'https://www.newsd.admin.ch/newsd/feeds/rss?lang=fr&org-nr=1070&topic=&keyword=&offer-nr=&catalogueElement=&kind=&start_date=2015-01-01&end_date=&end_index=199'\n",
    "\n",
    "list_flux_rss = [url_1,url_2,url_3,url_4]"
   ]
  },
  {
   "cell_type": "code",
   "execution_count": 6,
   "metadata": {},
   "outputs": [],
   "source": [
    "# Function that gets the title, url and  publication date\n",
    "# for all news releases\n",
    "\n",
    "def get_info(flux_rss):\n",
    "    \n",
    "    page = requests.get(flux_rss)\n",
    "    soup = BeautifulSoup(page.text,'html.parser')\n",
    "    \n",
    "    # Create  empty lists\n",
    "    list_titles  = []\n",
    "    list_urls    = []\n",
    "    list_dates   = []\n",
    "\n",
    "    for item in soup.find_all('item'):\n",
    "        title_str = item.contents[1].contents[0].strip()\n",
    "        if 'corona' in title_str.lower():\n",
    "            list_titles.append(title_str)\n",
    "            list_urls.append(item.contents[4].strip())\n",
    "            list_dates.append(item.contents[7].contents[0])\n",
    "            \n",
    "    return list_titles,list_urls,list_dates"
   ]
  },
  {
   "cell_type": "code",
   "execution_count": 7,
   "metadata": {},
   "outputs": [
    {
     "name": "stdout",
     "output_type": "stream",
     "text": [
      "(136, 3)\n"
     ]
    },
    {
     "data": {
      "text/html": [
       "<div>\n",
       "<style scoped>\n",
       "    .dataframe tbody tr th:only-of-type {\n",
       "        vertical-align: middle;\n",
       "    }\n",
       "\n",
       "    .dataframe tbody tr th {\n",
       "        vertical-align: top;\n",
       "    }\n",
       "\n",
       "    .dataframe thead th {\n",
       "        text-align: right;\n",
       "    }\n",
       "</style>\n",
       "<table border=\"1\" class=\"dataframe\">\n",
       "  <thead>\n",
       "    <tr style=\"text-align: right;\">\n",
       "      <th></th>\n",
       "      <th>title</th>\n",
       "      <th>url</th>\n",
       "      <th>pub_date</th>\n",
       "    </tr>\n",
       "  </thead>\n",
       "  <tbody>\n",
       "    <tr>\n",
       "      <th>0</th>\n",
       "      <td>Coronavirus: l'allocation Corona-perte de gain...</td>\n",
       "      <td>https://www.admin.ch/gov/fr/accueil/documentat...</td>\n",
       "      <td>2020-09-11</td>\n",
       "    </tr>\n",
       "    <tr>\n",
       "      <th>1</th>\n",
       "      <td>Coronavirus : pas de quarantaine pour les pers...</td>\n",
       "      <td>https://www.admin.ch/gov/fr/accueil/documentat...</td>\n",
       "      <td>2020-09-11</td>\n",
       "    </tr>\n",
       "    <tr>\n",
       "      <th>2</th>\n",
       "      <td>Coronavirus : le Conseil fédéral prolonge la s...</td>\n",
       "      <td>https://www.admin.ch/gov/fr/accueil/documentat...</td>\n",
       "      <td>2020-09-11</td>\n",
       "    </tr>\n",
       "    <tr>\n",
       "      <th>3</th>\n",
       "      <td>Coronavirus : les grandes manifestations à nou...</td>\n",
       "      <td>https://www.admin.ch/gov/fr/accueil/documentat...</td>\n",
       "      <td>2020-09-02</td>\n",
       "    </tr>\n",
       "    <tr>\n",
       "      <th>4</th>\n",
       "      <td>Coronavirus : la Confédération et les cantons ...</td>\n",
       "      <td>https://www.admin.ch/gov/fr/accueil/documentat...</td>\n",
       "      <td>2020-09-02</td>\n",
       "    </tr>\n",
       "  </tbody>\n",
       "</table>\n",
       "</div>"
      ],
      "text/plain": [
       "                                               title  \\\n",
       "0  Coronavirus: l'allocation Corona-perte de gain...   \n",
       "1  Coronavirus : pas de quarantaine pour les pers...   \n",
       "2  Coronavirus : le Conseil fédéral prolonge la s...   \n",
       "3  Coronavirus : les grandes manifestations à nou...   \n",
       "4  Coronavirus : la Confédération et les cantons ...   \n",
       "\n",
       "                                                 url   pub_date  \n",
       "0  https://www.admin.ch/gov/fr/accueil/documentat... 2020-09-11  \n",
       "1  https://www.admin.ch/gov/fr/accueil/documentat... 2020-09-11  \n",
       "2  https://www.admin.ch/gov/fr/accueil/documentat... 2020-09-11  \n",
       "3  https://www.admin.ch/gov/fr/accueil/documentat... 2020-09-02  \n",
       "4  https://www.admin.ch/gov/fr/accueil/documentat... 2020-09-02  "
      ]
     },
     "execution_count": 7,
     "metadata": {},
     "output_type": "execute_result"
    }
   ],
   "source": [
    "titles_tmp  = []\n",
    "urls_tmp    = []\n",
    "dates_tmp   = []\n",
    "results_t = pd.DataFrame()\n",
    "\n",
    "for rss in list_flux_rss:\n",
    "\n",
    "    titles_tmp  = []\n",
    "    urls_tmp    = []\n",
    "    dates_tmp   = []\n",
    "    titles_tmp, urls_tmp, dates_tmp = get_info(rss)\n",
    "    results = pd.DataFrame({'title':titles_tmp,'url':urls_tmp,'pub_date':dates_tmp})\n",
    "    results_t = pd.concat([results_t,results])\n",
    "    \n",
    "# Reset index\n",
    "results_t.reset_index(drop=True,inplace=True)\n",
    "# Drop duplicated entries\n",
    "results_t.drop_duplicates(inplace=True)\n",
    "\n",
    "# Fix datatypes\n",
    "\n",
    "results_t['pub_date'] = results_t['pub_date'].astype('str')\n",
    "results_t['pub_date'] =  pd.to_datetime(results_t['pub_date'], infer_datetime_format=True)\n",
    "results_t.dropna(inplace=True)\n",
    "print(results_t.shape)\n",
    "results_t.head()"
   ]
  },
  {
   "cell_type": "markdown",
   "metadata": {},
   "source": [
    "So, now we have the title, url and publication data of all news releases. We would now like to collect the text of the news release and add them in a \"text\" column."
   ]
  },
  {
   "cell_type": "code",
   "execution_count": 8,
   "metadata": {},
   "outputs": [],
   "source": [
    "# get_text: collects the text of the news release\n",
    "\n",
    "def get_text(url):\n",
    "    page = requests.get(url)\n",
    "    soup = BeautifulSoup(page.text,'html.parser')\n",
    "\n",
    "    text = ' '.join([tag.text.strip() for tag in soup.find_all('p')][1:-5]) # Remove strings at top/bottom of release  \n",
    "    return text"
   ]
  },
  {
   "cell_type": "code",
   "execution_count": 9,
   "metadata": {},
   "outputs": [
    {
     "name": "stdout",
     "output_type": "stream",
     "text": [
      "CPU times: user 7.79 s, sys: 184 ms, total: 7.98 s\n",
      "Wall time: 44.5 s\n"
     ]
    }
   ],
   "source": [
    "%%time\n",
    "\n",
    "# Collect text of all news releases related to coronavirus\n",
    "# Add them to column \"text\"\n",
    "\n",
    "results_t['text'] = results_t['url'].apply(lambda x:get_text(x))\n",
    "# Wall time: 49.4 s"
   ]
  },
  {
   "cell_type": "code",
   "execution_count": 12,
   "metadata": {},
   "outputs": [
    {
     "name": "stdout",
     "output_type": "stream",
     "text": [
      "(136, 4)\n",
      "(136, 4)\n"
     ]
    }
   ],
   "source": [
    "print(results_t.shape)\n",
    "results_t.drop_duplicates(inplace=True)\n",
    "print(results_t.shape)"
   ]
  },
  {
   "cell_type": "code",
   "execution_count": 13,
   "metadata": {},
   "outputs": [
    {
     "data": {
      "text/html": [
       "<div>\n",
       "<style scoped>\n",
       "    .dataframe tbody tr th:only-of-type {\n",
       "        vertical-align: middle;\n",
       "    }\n",
       "\n",
       "    .dataframe tbody tr th {\n",
       "        vertical-align: top;\n",
       "    }\n",
       "\n",
       "    .dataframe thead th {\n",
       "        text-align: right;\n",
       "    }\n",
       "</style>\n",
       "<table border=\"1\" class=\"dataframe\">\n",
       "  <thead>\n",
       "    <tr style=\"text-align: right;\">\n",
       "      <th></th>\n",
       "      <th>title</th>\n",
       "      <th>url</th>\n",
       "      <th>pub_date</th>\n",
       "      <th>text</th>\n",
       "    </tr>\n",
       "  </thead>\n",
       "  <tbody>\n",
       "    <tr>\n",
       "      <th>36</th>\n",
       "      <td>Coronavirus : la Suisse rouvrira ses frontière...</td>\n",
       "      <td>https://www.admin.ch/gov/fr/accueil/documentat...</td>\n",
       "      <td>2020-06-05</td>\n",
       "      <td>Berne, 05.06.2020 - La conseillère fédérale Ka...</td>\n",
       "    </tr>\n",
       "    <tr>\n",
       "      <th>112</th>\n",
       "      <td>Coronavirus : le Conseil fédéral décide de pre...</td>\n",
       "      <td>https://www.admin.ch/gov/fr/accueil/documentat...</td>\n",
       "      <td>2021-02-24</td>\n",
       "      <td>Berne, 24.02.2021 - Dès lundi 1er mars 2021, l...</td>\n",
       "    </tr>\n",
       "    <tr>\n",
       "      <th>81</th>\n",
       "      <td>Coronavirus : le Conseil fédéral lance un prog...</td>\n",
       "      <td>https://www.admin.ch/gov/fr/accueil/documentat...</td>\n",
       "      <td>2020-04-16</td>\n",
       "      <td>Berne, 16.04.2020 - Un besoin urgent de recher...</td>\n",
       "    </tr>\n",
       "    <tr>\n",
       "      <th>37</th>\n",
       "      <td>Coronavirus: assouplissements temporaires dans...</td>\n",
       "      <td>https://www.admin.ch/gov/fr/accueil/documentat...</td>\n",
       "      <td>2020-06-05</td>\n",
       "      <td>Berne, 05.06.2020 - En raison de la pandémie d...</td>\n",
       "    </tr>\n",
       "    <tr>\n",
       "      <th>70</th>\n",
       "      <td>Coronavirus : le Conseil fédéral adopte le mes...</td>\n",
       "      <td>https://www.admin.ch/gov/fr/accueil/documentat...</td>\n",
       "      <td>2020-04-22</td>\n",
       "      <td>Berne, 22.04.2020 - Au mois de mars, le Consei...</td>\n",
       "    </tr>\n",
       "  </tbody>\n",
       "</table>\n",
       "</div>"
      ],
      "text/plain": [
       "                                                 title  \\\n",
       "36   Coronavirus : la Suisse rouvrira ses frontière...   \n",
       "112  Coronavirus : le Conseil fédéral décide de pre...   \n",
       "81   Coronavirus : le Conseil fédéral lance un prog...   \n",
       "37   Coronavirus: assouplissements temporaires dans...   \n",
       "70   Coronavirus : le Conseil fédéral adopte le mes...   \n",
       "\n",
       "                                                   url   pub_date  \\\n",
       "36   https://www.admin.ch/gov/fr/accueil/documentat... 2020-06-05   \n",
       "112  https://www.admin.ch/gov/fr/accueil/documentat... 2021-02-24   \n",
       "81   https://www.admin.ch/gov/fr/accueil/documentat... 2020-04-16   \n",
       "37   https://www.admin.ch/gov/fr/accueil/documentat... 2020-06-05   \n",
       "70   https://www.admin.ch/gov/fr/accueil/documentat... 2020-04-22   \n",
       "\n",
       "                                                  text  \n",
       "36   Berne, 05.06.2020 - La conseillère fédérale Ka...  \n",
       "112  Berne, 24.02.2021 - Dès lundi 1er mars 2021, l...  \n",
       "81   Berne, 16.04.2020 - Un besoin urgent de recher...  \n",
       "37   Berne, 05.06.2020 - En raison de la pandémie d...  \n",
       "70   Berne, 22.04.2020 - Au mois de mars, le Consei...  "
      ]
     },
     "execution_count": 13,
     "metadata": {},
     "output_type": "execute_result"
    }
   ],
   "source": [
    "# Show results\n",
    "\n",
    "results_t.sample(5)"
   ]
  },
  {
   "cell_type": "code",
   "execution_count": 14,
   "metadata": {},
   "outputs": [],
   "source": [
    "# Export results\n",
    "\n",
    "results_t.to_csv('communiques_conseil_fédéral.csv',index=False)"
   ]
  }
 ],
 "metadata": {
  "kernelspec": {
   "display_name": "Python 3 (ipykernel)",
   "language": "python",
   "name": "python3"
  },
  "language_info": {
   "codemirror_mode": {
    "name": "ipython",
    "version": 3
   },
   "file_extension": ".py",
   "mimetype": "text/x-python",
   "name": "python",
   "nbconvert_exporter": "python",
   "pygments_lexer": "ipython3",
   "version": "3.9.7"
  }
 },
 "nbformat": 4,
 "nbformat_minor": 4
}
